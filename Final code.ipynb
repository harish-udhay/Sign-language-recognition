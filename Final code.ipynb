{
 "cells": [
  {
   "cell_type": "markdown",
   "id": "ef2b53ee",
   "metadata": {},
   "source": [
    "# Import Libraries"
   ]
  },
  {
   "cell_type": "code",
   "execution_count": 1,
   "id": "fb72eae0",
   "metadata": {},
   "outputs": [],
   "source": [
    "import cv2\n",
    "import numpy as np\n",
    "import os\n",
    "from matplotlib import pyplot as plt\n",
    "import time\n",
    "import mediapipe as mp\n",
    "\n",
    "from tensorflow.keras.models import Sequential\n",
    "from tensorflow.keras.layers import LSTM, Dense, Bidirectional\n",
    "from tensorflow.keras.callbacks import TensorBoard\n",
    "\n",
    "from sklearn.model_selection import train_test_split\n",
    "from tensorflow.keras.utils import to_categorical\n",
    "\n",
    "from sklearn.metrics import multilabel_confusion_matrix, accuracy_score"
   ]
  },
  {
   "cell_type": "code",
   "execution_count": 2,
   "id": "1156ae72",
   "metadata": {},
   "outputs": [],
   "source": [
    "mp_holistic = mp.solutions.holistic #hollistic model\n",
    "mp_drawing = mp.solutions.drawing_utils #drawing utilities"
   ]
  },
  {
   "cell_type": "code",
   "execution_count": 3,
   "id": "4c5ebbd0",
   "metadata": {},
   "outputs": [],
   "source": [
    "def mediapipe_detection(image, model):\n",
    "    image = cv2.cvtColor(image, cv2.COLOR_BGR2RGB) # convert BGR image to RGB for processing\n",
    "    image.flags.writeable = False\n",
    "    results = model.process(image) # predict\n",
    "    image.flags.writeable = True\n",
    "    image = cv2.cvtColor(image, cv2.COLOR_RGB2BGR) # convert image back to BGR and return\n",
    "    return image, results"
   ]
  },
  {
   "cell_type": "code",
   "execution_count": 4,
   "id": "f0438a00",
   "metadata": {},
   "outputs": [],
   "source": [
    "# Gives the connections that is detected in the feed (eg: left eye connected to nose)\n",
    "def draw_landmarks(image, results):\n",
    "    mp_drawing.draw_landmarks(image, results.face_landmarks, mp_holistic.FACEMESH_TESSELATION)\n",
    "    mp_drawing.draw_landmarks(image, results.pose_landmarks, mp_holistic.POSE_CONNECTIONS)\n",
    "    mp_drawing.draw_landmarks(image, results.left_hand_landmarks, mp_holistic.HAND_CONNECTIONS)\n",
    "    mp_drawing.draw_landmarks(image, results.right_hand_landmarks, mp_holistic.HAND_CONNECTIONS)"
   ]
  },
  {
   "cell_type": "code",
   "execution_count": 5,
   "id": "36f314e0",
   "metadata": {},
   "outputs": [],
   "source": [
    "#customized landmarks\n",
    "def draw_styled_landmarks(image, results):\n",
    "    #face connection\n",
    "    mp_drawing.draw_landmarks(image, results.face_landmarks, mp_holistic.FACEMESH_TESSELATION,\n",
    "                              mp_drawing.DrawingSpec(color=(80,110,10), thickness = 1, circle_radius=1),\n",
    "                              mp_drawing.DrawingSpec(color=(80,256,121), thickness = 1, circle_radius=1))\n",
    "    #pose connection\n",
    "    mp_drawing.draw_landmarks(image, results.pose_landmarks, mp_holistic.POSE_CONNECTIONS,\n",
    "                              mp_drawing.DrawingSpec(color=(80,22,10), thickness = 2, circle_radius=4),\n",
    "                              mp_drawing.DrawingSpec(color=(80,44,121), thickness = 2, circle_radius=2))\n",
    "    #left hand connection\n",
    "    mp_drawing.draw_landmarks(image, results.left_hand_landmarks, mp_holistic.HAND_CONNECTIONS,\n",
    "                              mp_drawing.DrawingSpec(color=(121,22,76), thickness = 2, circle_radius=4),\n",
    "                              mp_drawing.DrawingSpec(color=(121,44,250), thickness = 2, circle_radius=2))\n",
    "    #right hand connection\n",
    "    mp_drawing.draw_landmarks(image, results.right_hand_landmarks, mp_holistic.HAND_CONNECTIONS,\n",
    "                              mp_drawing.DrawingSpec(color=(245,117,66), thickness = 2, circle_radius=4),\n",
    "                              mp_drawing.DrawingSpec(color=(245,66,230), thickness = 2, circle_radius=2))"
   ]
  },
  {
   "cell_type": "code",
   "execution_count": 6,
   "id": "abc74af9",
   "metadata": {},
   "outputs": [],
   "source": [
    "# draw_landmarks(frame, results)"
   ]
  },
  {
   "cell_type": "code",
   "execution_count": 7,
   "id": "6c2459f7",
   "metadata": {},
   "outputs": [],
   "source": [
    "# plt.imshow(cv2.cvtColor(frame, cv2.COLOR_BGR2RGB))"
   ]
  },
  {
   "cell_type": "code",
   "execution_count": 8,
   "id": "fb5a410d",
   "metadata": {},
   "outputs": [],
   "source": [
    "# get the points\n",
    "def extract_keypoints(results):\n",
    "    pose = np.array([[res.x, res.y, res.z, res.visibility] for res in results.pose_landmarks.landmark]).flatten()if results.pose_landmarks else np.zeros(33)\n",
    "    face = np.array([[res.x, res.y, res.z, res.visibility] for res in results.face_landmarks.landmark]).flatten()if results.pose_landmarks else np.zeros(468)\n",
    "    left_hand = np.array([[res.x, res.y, res.z] for res in results.left_hand_landmarks.landmark]).flatten() if results.left_hand_landmarks else np.zeros(21*3)\n",
    "    right_hand = np.array([[res.x, res.y, res.z] for res in results.right_hand_landmarks.landmark]).flatten() if results.right_hand_landmarks else np.zeros(21*3)\n",
    "    return np.concatenate([pose, face, left_hand, right_hand])"
   ]
  },
  {
   "cell_type": "code",
   "execution_count": 9,
   "id": "10d512f4",
   "metadata": {},
   "outputs": [],
   "source": [
    "# result_test = extract_keypoints(results)\n",
    "# np.save('0', result_test)"
   ]
  },
  {
   "cell_type": "code",
   "execution_count": 10,
   "id": "3c84b983",
   "metadata": {},
   "outputs": [],
   "source": [
    "DATA_PATH = os.path.join('MP_Data')\n",
    "\n",
    "actions = np.array(['Hello', 'Thanks', 'I Love You'])\n",
    "\n",
    "no_sequences = 30\n",
    "\n",
    "sequence_length = 30"
   ]
  },
  {
   "cell_type": "markdown",
   "id": "53397342",
   "metadata": {},
   "source": [
    "# Create directories for the data to be collected"
   ]
  },
  {
   "cell_type": "code",
   "execution_count": 11,
   "id": "443bcdd9",
   "metadata": {},
   "outputs": [],
   "source": [
    "# for action in actions:\n",
    "#     for sequence in range(no_sequences):\n",
    "#         try:\n",
    "#             os.makedirs(os.path.join(DATA_PATH, action, str(sequence)))\n",
    "#         except:\n",
    "#             pass"
   ]
  },
  {
   "cell_type": "markdown",
   "id": "9ffa8082",
   "metadata": {},
   "source": [
    "# Record data for keypoints in hands and body pose and place them in the folders created in previous block"
   ]
  },
  {
   "cell_type": "code",
   "execution_count": 12,
   "id": "872888f5",
   "metadata": {
    "scrolled": true
   },
   "outputs": [],
   "source": [
    "# cap = cv2.VideoCapture(0)\n",
    "# with mp_holistic.Holistic(min_detection_confidence = 0.5, min_tracking_confidence=0.5) as holistic:\n",
    "    \n",
    "#     for action in actions:\n",
    "#         for sequence in range(no_sequences):\n",
    "#             for frame_num in range(sequence_length):\n",
    "        \n",
    "#                 ret, frame = cap.read()\n",
    "\n",
    "#                 #made detection\n",
    "#                 image, results = mediapipe_detection(frame, holistic)\n",
    "#                 #draw landmarks\n",
    "#                 draw_styled_landmarks(image, results)\n",
    "\n",
    "#                 if frame_num == 0:\n",
    "#                     cv2.putText(image, 'STARTING COLLECTION', (120,200),\n",
    "#                                cv2.FONT_HERSHEY_SIMPLEX, 1, (0,255,0), 4, cv2.LINE_AA)\n",
    "#                     cv2.putText(image, 'Collecting frames for {} Video number {}'.format(action,sequence), (15,12),\n",
    "#                                cv2.FONT_HERSHEY_SIMPLEX, 1, (0,255,0), 1, cv2.LINE_AA)\n",
    "#                     cv2.imshow('OpenCV Feed', image)\n",
    "#                     cv2.waitKey(2000)\n",
    "#                 else:\n",
    "#                     cv2.putText(image, 'Collecting frames for {} Video number {}'.format(action, sequence), (15,12),\n",
    "#                                cv2.FONT_HERSHEY_SIMPLEX, 1, (0,255,0), 1, cv2.LINE_AA) \n",
    "#                     cv2.imshow('OpenCV Feed', image)\n",
    "\n",
    "#                 #keypoints\n",
    "#                 keypoints = extract_keypoints(results)\n",
    "#                 npy_path = os.path.join(DATA_PATH, action, str(sequence), str(frame_num))\n",
    "#                 np.save(npy_path, keypoints)\n",
    "                \n",
    "#                 if cv2.waitKey(10) & 0xFF == ord('q'):\n",
    "#                     break\n",
    "#     cap.release()\n",
    "#     cv2.destroyAllWindows()"
   ]
  },
  {
   "cell_type": "code",
   "execution_count": 13,
   "id": "a161f84a",
   "metadata": {},
   "outputs": [
    {
     "data": {
      "text/plain": [
       "{'Hello': 0, 'Thanks': 1, 'I Love You': 2}"
      ]
     },
     "execution_count": 13,
     "metadata": {},
     "output_type": "execute_result"
    }
   ],
   "source": [
    "label_map = {label:num for num, label in enumerate(actions)}\n",
    "label_map"
   ]
  },
  {
   "cell_type": "markdown",
   "id": "75ff64ac",
   "metadata": {},
   "source": [
    "# Load data form the directories into 'sequences' array"
   ]
  },
  {
   "cell_type": "code",
   "execution_count": 14,
   "id": "bf9527fe",
   "metadata": {},
   "outputs": [],
   "source": [
    "sequences, labels = [], []\n",
    "\n",
    "for action in actions:\n",
    "    for sequence in range(no_sequences):\n",
    "        window = []\n",
    "        for frame_num in range(sequence_length):\n",
    "            res = np.load(os.path.join(DATA_PATH, action, str(sequence), \"{}.npy\".format(frame_num)))\n",
    "            window.append(res)\n",
    "        sequences.append(window)\n",
    "        labels.append(label_map[action])"
   ]
  },
  {
   "cell_type": "code",
   "execution_count": 15,
   "id": "37d91599",
   "metadata": {},
   "outputs": [
    {
     "data": {
      "text/plain": [
       "(90, 30, 2130)"
      ]
     },
     "execution_count": 15,
     "metadata": {},
     "output_type": "execute_result"
    }
   ],
   "source": [
    "np.array(sequences).shape"
   ]
  },
  {
   "cell_type": "code",
   "execution_count": 16,
   "id": "c87ed259",
   "metadata": {},
   "outputs": [],
   "source": [
    "X = np.array(sequences)\n",
    "y = to_categorical(labels).astype(int)"
   ]
  },
  {
   "cell_type": "code",
   "execution_count": 17,
   "id": "5c656044",
   "metadata": {},
   "outputs": [],
   "source": [
    "x_train, x_test, y_train, y_test = train_test_split(X, y, test_size=0.05)"
   ]
  },
  {
   "cell_type": "code",
   "execution_count": 18,
   "id": "2dbc520c",
   "metadata": {},
   "outputs": [
    {
     "name": "stdout",
     "output_type": "stream",
     "text": [
      "(85, 30, 2130) (5, 30, 2130) (85, 3) (5, 3)\n"
     ]
    }
   ],
   "source": [
    "print(x_train.shape, x_test.shape, y_train.shape, y_test.shape)"
   ]
  },
  {
   "cell_type": "code",
   "execution_count": 19,
   "id": "d9d2660c",
   "metadata": {},
   "outputs": [],
   "source": [
    "log_dir = os.path.join('logs')\n",
    "tb_callback = TensorBoard(log_dir=log_dir)"
   ]
  },
  {
   "cell_type": "markdown",
   "id": "f2263400",
   "metadata": {},
   "source": [
    "# Simple LSTM"
   ]
  },
  {
   "cell_type": "code",
   "execution_count": 20,
   "id": "4fd37af4",
   "metadata": {},
   "outputs": [],
   "source": [
    "model = Sequential()\n",
    "model.add(LSTM(64, return_sequences = False, activation='relu', input_shape=(30,2130)))\n",
    "model.add(Dense(actions.shape[0], activation='softmax'))"
   ]
  },
  {
   "cell_type": "markdown",
   "id": "aa3704c4",
   "metadata": {},
   "source": [
    "# Bidirectional LSTM"
   ]
  },
  {
   "cell_type": "code",
   "execution_count": null,
   "id": "d27c6c26",
   "metadata": {},
   "outputs": [],
   "source": [
    "# model = Sequential()\n",
    "# model.add(Bidirectional(LSTM(64, return_sequences = False, activation='relu', input_shape=(30,2130))))\n",
    "# model.add(Dense(actions.shape[0], activation='softmax'))"
   ]
  },
  {
   "cell_type": "markdown",
   "id": "57e88147",
   "metadata": {},
   "source": [
    "# Stacked LSTM network:"
   ]
  },
  {
   "cell_type": "code",
   "execution_count": null,
   "id": "323d233f",
   "metadata": {},
   "outputs": [],
   "source": [
    "# model = Sequential()\n",
    "# model.add(LSTM(64, return_sequences = True, activation='relu', input_shape=(30,2130)))\n",
    "# model.add(LSTM(128, return_sequences = True, activation='relu'))\n",
    "# model.add(LSTM(64, return_sequences = False, activation='relu'))\n",
    "\n",
    "# model.add(Dense(64, activation='relu'))\n",
    "# model.add(Dense(32, activation='relu'))\n",
    "# model.add(Dense(actions.shape[0], activation='softmax'))"
   ]
  },
  {
   "cell_type": "code",
   "execution_count": 21,
   "id": "75817674",
   "metadata": {},
   "outputs": [],
   "source": [
    "model.compile(optimizer='Adam', loss='categorical_crossentropy', metrics=['categorical_accuracy'])"
   ]
  },
  {
   "cell_type": "code",
   "execution_count": 22,
   "id": "36840e89",
   "metadata": {
    "scrolled": true
   },
   "outputs": [
    {
     "name": "stdout",
     "output_type": "stream",
     "text": [
      "Epoch 1/100\n",
      "3/3 [==============================] - 2s 174ms/step - loss: 1.6161 - categorical_accuracy: 0.1292\n",
      "Epoch 2/100\n",
      "3/3 [==============================] - 0s 62ms/step - loss: 1.2656 - categorical_accuracy: 0.5832\n",
      "Epoch 3/100\n",
      "3/3 [==============================] - 0s 64ms/step - loss: 1.2057 - categorical_accuracy: 0.4324\n",
      "Epoch 4/100\n",
      "3/3 [==============================] - 0s 61ms/step - loss: 0.8398 - categorical_accuracy: 0.6812\n",
      "Epoch 5/100\n",
      "3/3 [==============================] - 0s 65ms/step - loss: 1.1993 - categorical_accuracy: 0.7161\n",
      "Epoch 6/100\n",
      "3/3 [==============================] - 0s 64ms/step - loss: 0.7448 - categorical_accuracy: 0.7201\n",
      "Epoch 7/100\n",
      "3/3 [==============================] - 0s 37ms/step - loss: 0.9328 - categorical_accuracy: 0.5870\n",
      "Epoch 8/100\n",
      "3/3 [==============================] - 0s 35ms/step - loss: 0.6795 - categorical_accuracy: 0.6673\n",
      "Epoch 9/100\n",
      "3/3 [==============================] - 0s 37ms/step - loss: 0.6661 - categorical_accuracy: 0.5871\n",
      "Epoch 10/100\n",
      "3/3 [==============================] - 0s 37ms/step - loss: 0.5846 - categorical_accuracy: 0.6223\n",
      "Epoch 11/100\n",
      "3/3 [==============================] - 0s 42ms/step - loss: 0.5200 - categorical_accuracy: 0.7594\n",
      "Epoch 12/100\n",
      "3/3 [==============================] - 0s 41ms/step - loss: 0.4656 - categorical_accuracy: 0.6712\n",
      "Epoch 13/100\n",
      "3/3 [==============================] - 0s 36ms/step - loss: 0.3545 - categorical_accuracy: 0.9295\n",
      "Epoch 14/100\n",
      "3/3 [==============================] - 0s 35ms/step - loss: 0.3227 - categorical_accuracy: 0.9001\n",
      "Epoch 15/100\n",
      "3/3 [==============================] - 0s 35ms/step - loss: 0.3096 - categorical_accuracy: 0.9158\n",
      "Epoch 16/100\n",
      "3/3 [==============================] - 0s 36ms/step - loss: 0.3763 - categorical_accuracy: 0.7905\n",
      "Epoch 17/100\n",
      "3/3 [==============================] - 0s 34ms/step - loss: 0.4295 - categorical_accuracy: 0.8356\n",
      "Epoch 18/100\n",
      "3/3 [==============================] - 0s 35ms/step - loss: 0.9461 - categorical_accuracy: 0.5087\n",
      "Epoch 19/100\n",
      "3/3 [==============================] - 0s 36ms/step - loss: 0.7442 - categorical_accuracy: 0.6459\n",
      "Epoch 20/100\n",
      "3/3 [==============================] - 0s 36ms/step - loss: 0.4129 - categorical_accuracy: 0.7083\n",
      "Epoch 21/100\n",
      "3/3 [==============================] - 0s 43ms/step - loss: 0.4896 - categorical_accuracy: 0.7868\n",
      "Epoch 22/100\n",
      "3/3 [==============================] - 0s 36ms/step - loss: 0.3639 - categorical_accuracy: 0.8140\n",
      "Epoch 23/100\n",
      "3/3 [==============================] - 0s 35ms/step - loss: 0.3914 - categorical_accuracy: 0.7026\n",
      "Epoch 24/100\n",
      "3/3 [==============================] - 0s 36ms/step - loss: 0.3433 - categorical_accuracy: 0.8766\n",
      "Epoch 25/100\n",
      "3/3 [==============================] - 0s 39ms/step - loss: 0.3835 - categorical_accuracy: 0.7574\n",
      "Epoch 26/100\n",
      "3/3 [==============================] - 0s 36ms/step - loss: 0.2920 - categorical_accuracy: 0.9765\n",
      "Epoch 27/100\n",
      "3/3 [==============================] - 0s 37ms/step - loss: 0.2647 - categorical_accuracy: 0.9824\n",
      "Epoch 28/100\n",
      "3/3 [==============================] - 0s 39ms/step - loss: 0.2556 - categorical_accuracy: 0.9628\n",
      "Epoch 29/100\n",
      "3/3 [==============================] - 0s 36ms/step - loss: 0.2303 - categorical_accuracy: 0.9276\n",
      "Epoch 30/100\n",
      "3/3 [==============================] - 0s 37ms/step - loss: 0.2207 - categorical_accuracy: 0.9824\n",
      "Epoch 31/100\n",
      "3/3 [==============================] - 0s 37ms/step - loss: 0.1593 - categorical_accuracy: 0.9824\n",
      "Epoch 32/100\n",
      "3/3 [==============================] - 0s 38ms/step - loss: 0.1230 - categorical_accuracy: 0.9824\n",
      "Epoch 33/100\n",
      "3/3 [==============================] - 0s 40ms/step - loss: 0.1254 - categorical_accuracy: 0.9648\n",
      "Epoch 34/100\n",
      "3/3 [==============================] - 0s 37ms/step - loss: 0.0843 - categorical_accuracy: 0.9941\n",
      "Epoch 35/100\n",
      "3/3 [==============================] - 0s 37ms/step - loss: 0.0983 - categorical_accuracy: 0.9648\n",
      "Epoch 36/100\n",
      "3/3 [==============================] - 0s 38ms/step - loss: 0.0645 - categorical_accuracy: 0.9902\n",
      "Epoch 37/100\n",
      "3/3 [==============================] - 0s 36ms/step - loss: 0.0448 - categorical_accuracy: 0.9941\n",
      "Epoch 38/100\n",
      "3/3 [==============================] - 0s 34ms/step - loss: 0.0545 - categorical_accuracy: 0.9804\n",
      "Epoch 39/100\n",
      "3/3 [==============================] - 0s 36ms/step - loss: 0.0523 - categorical_accuracy: 0.9824\n",
      "Epoch 40/100\n",
      "3/3 [==============================] - 0s 37ms/step - loss: 0.0317 - categorical_accuracy: 0.9902\n",
      "Epoch 41/100\n",
      "3/3 [==============================] - 0s 35ms/step - loss: 0.0505 - categorical_accuracy: 0.9726\n",
      "Epoch 42/100\n",
      "3/3 [==============================] - 0s 35ms/step - loss: 0.0618 - categorical_accuracy: 0.9824\n",
      "Epoch 43/100\n",
      "3/3 [==============================] - 0s 34ms/step - loss: 0.0301 - categorical_accuracy: 0.9882\n",
      "Epoch 44/100\n",
      "3/3 [==============================] - 0s 33ms/step - loss: 0.0543 - categorical_accuracy: 0.9687\n",
      "Epoch 45/100\n",
      "3/3 [==============================] - 0s 36ms/step - loss: 0.1850 - categorical_accuracy: 0.9452\n",
      "Epoch 46/100\n",
      "3/3 [==============================] - 0s 35ms/step - loss: 0.5319 - categorical_accuracy: 0.8005\n",
      "Epoch 47/100\n",
      "3/3 [==============================] - 0s 32ms/step - loss: 0.2070 - categorical_accuracy: 0.9139\n",
      "Epoch 48/100\n",
      "3/3 [==============================] - 0s 34ms/step - loss: 0.0494 - categorical_accuracy: 0.9902\n",
      "Epoch 49/100\n",
      "3/3 [==============================] - 0s 36ms/step - loss: 0.0578 - categorical_accuracy: 0.9902\n",
      "Epoch 50/100\n",
      "3/3 [==============================] - 0s 35ms/step - loss: 0.0554 - categorical_accuracy: 0.9765\n",
      "Epoch 51/100\n",
      "3/3 [==============================] - 0s 34ms/step - loss: 0.0391 - categorical_accuracy: 1.0000\n",
      "Epoch 52/100\n",
      "3/3 [==============================] - 0s 34ms/step - loss: 0.0425 - categorical_accuracy: 1.0000\n",
      "Epoch 53/100\n",
      "3/3 [==============================] - 0s 34ms/step - loss: 0.0286 - categorical_accuracy: 1.0000\n",
      "Epoch 54/100\n",
      "3/3 [==============================] - 0s 34ms/step - loss: 0.0286 - categorical_accuracy: 1.0000\n",
      "Epoch 55/100\n",
      "3/3 [==============================] - 0s 34ms/step - loss: 0.0288 - categorical_accuracy: 1.0000\n",
      "Epoch 56/100\n",
      "3/3 [==============================] - 0s 34ms/step - loss: 0.0208 - categorical_accuracy: 1.0000\n",
      "Epoch 57/100\n",
      "3/3 [==============================] - 0s 35ms/step - loss: 0.0180 - categorical_accuracy: 1.0000\n",
      "Epoch 58/100\n",
      "3/3 [==============================] - 0s 37ms/step - loss: 0.0167 - categorical_accuracy: 1.0000\n",
      "Epoch 59/100\n",
      "3/3 [==============================] - 0s 34ms/step - loss: 0.0122 - categorical_accuracy: 1.0000\n",
      "Epoch 60/100\n",
      "3/3 [==============================] - 0s 34ms/step - loss: 0.0148 - categorical_accuracy: 1.0000\n",
      "Epoch 61/100\n",
      "3/3 [==============================] - 0s 35ms/step - loss: 0.0125 - categorical_accuracy: 1.0000\n",
      "Epoch 62/100\n",
      "3/3 [==============================] - 0s 34ms/step - loss: 0.0105 - categorical_accuracy: 1.0000\n",
      "Epoch 63/100\n",
      "3/3 [==============================] - 0s 35ms/step - loss: 0.0072 - categorical_accuracy: 1.0000\n",
      "Epoch 64/100\n",
      "3/3 [==============================] - 0s 33ms/step - loss: 0.0061 - categorical_accuracy: 1.0000\n",
      "Epoch 65/100\n",
      "3/3 [==============================] - 0s 36ms/step - loss: 0.0052 - categorical_accuracy: 1.0000\n",
      "Epoch 66/100\n",
      "3/3 [==============================] - 0s 35ms/step - loss: 0.0045 - categorical_accuracy: 1.0000\n",
      "Epoch 67/100\n",
      "3/3 [==============================] - 0s 35ms/step - loss: 0.0059 - categorical_accuracy: 1.0000\n",
      "Epoch 68/100\n",
      "3/3 [==============================] - 0s 33ms/step - loss: 0.0045 - categorical_accuracy: 1.0000\n",
      "Epoch 69/100\n",
      "3/3 [==============================] - 0s 37ms/step - loss: 0.0035 - categorical_accuracy: 1.0000\n",
      "Epoch 70/100\n",
      "3/3 [==============================] - 0s 41ms/step - loss: 0.0030 - categorical_accuracy: 1.0000\n",
      "Epoch 71/100\n",
      "3/3 [==============================] - 0s 35ms/step - loss: 0.0022 - categorical_accuracy: 1.0000\n",
      "Epoch 72/100\n",
      "3/3 [==============================] - 0s 37ms/step - loss: 0.0020 - categorical_accuracy: 1.0000\n",
      "Epoch 73/100\n",
      "3/3 [==============================] - 0s 38ms/step - loss: 0.0019 - categorical_accuracy: 1.0000\n",
      "Epoch 74/100\n"
     ]
    },
    {
     "name": "stdout",
     "output_type": "stream",
     "text": [
      "3/3 [==============================] - 0s 40ms/step - loss: 0.0014 - categorical_accuracy: 1.0000\n",
      "Epoch 75/100\n",
      "3/3 [==============================] - 0s 37ms/step - loss: 0.0012 - categorical_accuracy: 1.0000\n",
      "Epoch 76/100\n",
      "3/3 [==============================] - 0s 40ms/step - loss: 0.0012 - categorical_accuracy: 1.0000\n",
      "Epoch 77/100\n",
      "3/3 [==============================] - 0s 37ms/step - loss: 6.6720e-04 - categorical_accuracy: 1.0000\n",
      "Epoch 78/100\n",
      "3/3 [==============================] - 0s 33ms/step - loss: 6.4449e-04 - categorical_accuracy: 1.0000\n",
      "Epoch 79/100\n",
      "3/3 [==============================] - 0s 34ms/step - loss: 4.4599e-04 - categorical_accuracy: 1.0000\n",
      "Epoch 80/100\n",
      "3/3 [==============================] - 0s 36ms/step - loss: 8.0244 - categorical_accuracy: 0.8902\n",
      "Epoch 81/100\n",
      "3/3 [==============================] - 0s 40ms/step - loss: 21.2588 - categorical_accuracy: 0.3993\n",
      "Epoch 82/100\n",
      "3/3 [==============================] - 0s 36ms/step - loss: 25.5536 - categorical_accuracy: 0.3288\n",
      "Epoch 83/100\n",
      "3/3 [==============================] - 0s 34ms/step - loss: 12.6941 - categorical_accuracy: 0.3367\n",
      "Epoch 84/100\n",
      "3/3 [==============================] - 0s 35ms/step - loss: 7.1380 - categorical_accuracy: 0.3268\n",
      "Epoch 85/100\n",
      "3/3 [==============================] - 0s 35ms/step - loss: 3.7506 - categorical_accuracy: 0.3269\n",
      "Epoch 86/100\n",
      "3/3 [==============================] - 0s 35ms/step - loss: 8.1572 - categorical_accuracy: 0.4091\n",
      "Epoch 87/100\n",
      "3/3 [==============================] - 0s 34ms/step - loss: 3.1781 - categorical_accuracy: 0.4208\n",
      "Epoch 88/100\n",
      "3/3 [==============================] - 0s 33ms/step - loss: 11.1833 - categorical_accuracy: 0.4148\n",
      "Epoch 89/100\n",
      "3/3 [==============================] - 0s 34ms/step - loss: 21.1542 - categorical_accuracy: 0.3073\n",
      "Epoch 90/100\n",
      "3/3 [==============================] - 0s 26ms/step - loss: 7.2376 - categorical_accuracy: 0.3757\n",
      "Epoch 91/100\n",
      "3/3 [==============================] - 0s 27ms/step - loss: 11.2881 - categorical_accuracy: 0.3718\n",
      "Epoch 92/100\n",
      "3/3 [==============================] - 0s 29ms/step - loss: 10.8972 - categorical_accuracy: 0.3659\n",
      "Epoch 93/100\n",
      "3/3 [==============================] - 0s 26ms/step - loss: 8.8887 - categorical_accuracy: 0.5089\n",
      "Epoch 94/100\n",
      "3/3 [==============================] - 0s 31ms/step - loss: 9.7143 - categorical_accuracy: 0.4930\n",
      "Epoch 95/100\n",
      "3/3 [==============================] - 0s 28ms/step - loss: 6.6183 - categorical_accuracy: 0.4209\n",
      "Epoch 96/100\n",
      "3/3 [==============================] - 0s 27ms/step - loss: 1.8086 - categorical_accuracy: 0.3503\n",
      "Epoch 97/100\n",
      "3/3 [==============================] - 0s 27ms/step - loss: 2.1206 - categorical_accuracy: 0.4012\n",
      "Epoch 98/100\n",
      "3/3 [==============================] - 0s 29ms/step - loss: 1.8066 - categorical_accuracy: 0.3483\n",
      "Epoch 99/100\n",
      "3/3 [==============================] - 0s 30ms/step - loss: 1.2614 - categorical_accuracy: 0.3718\n",
      "Epoch 100/100\n",
      "3/3 [==============================] - 0s 28ms/step - loss: 1.0783 - categorical_accuracy: 0.4110\n"
     ]
    },
    {
     "data": {
      "text/plain": [
       "<tensorflow.python.keras.callbacks.History at 0x1907ddf8460>"
      ]
     },
     "execution_count": 22,
     "metadata": {},
     "output_type": "execute_result"
    }
   ],
   "source": [
    "model.fit(x_train, y_train, epochs=100, callbacks=[tb_callback])"
   ]
  },
  {
   "cell_type": "code",
   "execution_count": 23,
   "id": "f27abc63",
   "metadata": {},
   "outputs": [
    {
     "name": "stdout",
     "output_type": "stream",
     "text": [
      "Model: \"sequential\"\n",
      "_________________________________________________________________\n",
      "Layer (type)                 Output Shape              Param #   \n",
      "=================================================================\n",
      "lstm (LSTM)                  (None, 64)                561920    \n",
      "_________________________________________________________________\n",
      "dense (Dense)                (None, 3)                 195       \n",
      "=================================================================\n",
      "Total params: 562,115\n",
      "Trainable params: 562,115\n",
      "Non-trainable params: 0\n",
      "_________________________________________________________________\n"
     ]
    }
   ],
   "source": [
    "model.summary()"
   ]
  },
  {
   "cell_type": "code",
   "execution_count": 24,
   "id": "e164f778",
   "metadata": {},
   "outputs": [],
   "source": [
    "result = model.predict(x_test)"
   ]
  },
  {
   "cell_type": "code",
   "execution_count": 25,
   "id": "ef56232b",
   "metadata": {},
   "outputs": [],
   "source": [
    "model.save('action.h5')"
   ]
  },
  {
   "cell_type": "code",
   "execution_count": 26,
   "id": "f76d2701",
   "metadata": {},
   "outputs": [],
   "source": [
    "model.load_weights('action.h5')"
   ]
  },
  {
   "cell_type": "markdown",
   "id": "4bf29977",
   "metadata": {},
   "source": [
    "# Evaluate"
   ]
  },
  {
   "cell_type": "code",
   "execution_count": 27,
   "id": "9a22c935",
   "metadata": {},
   "outputs": [],
   "source": [
    "yhat = model.predict(x_test)"
   ]
  },
  {
   "cell_type": "code",
   "execution_count": 28,
   "id": "dba3390f",
   "metadata": {},
   "outputs": [],
   "source": [
    "y_true = np.argmax(y_test, axis=1).tolist()\n",
    "yhat = np.argmax(yhat, axis=1).tolist()"
   ]
  },
  {
   "cell_type": "code",
   "execution_count": 29,
   "id": "f50526c9",
   "metadata": {},
   "outputs": [
    {
     "data": {
      "text/plain": [
       "[1, 1, 0, 0, 1]"
      ]
     },
     "execution_count": 29,
     "metadata": {},
     "output_type": "execute_result"
    }
   ],
   "source": [
    "y_true"
   ]
  },
  {
   "cell_type": "code",
   "execution_count": 30,
   "id": "38a70f39",
   "metadata": {},
   "outputs": [
    {
     "data": {
      "text/plain": [
       "array([[[3, 0],\n",
       "        [0, 2]],\n",
       "\n",
       "       [[2, 0],\n",
       "        [0, 3]]], dtype=int64)"
      ]
     },
     "execution_count": 30,
     "metadata": {},
     "output_type": "execute_result"
    }
   ],
   "source": [
    "multilabel_confusion_matrix(y_true, yhat)"
   ]
  },
  {
   "cell_type": "code",
   "execution_count": 31,
   "id": "a89d8839",
   "metadata": {},
   "outputs": [
    {
     "data": {
      "text/plain": [
       "1.0"
      ]
     },
     "execution_count": 31,
     "metadata": {},
     "output_type": "execute_result"
    }
   ],
   "source": [
    "accuracy_score(y_true, yhat)"
   ]
  },
  {
   "cell_type": "markdown",
   "id": "cef6810f",
   "metadata": {},
   "source": [
    "# Real time detection"
   ]
  },
  {
   "cell_type": "code",
   "execution_count": 32,
   "id": "5f92aa3e",
   "metadata": {},
   "outputs": [],
   "source": [
    "colors = [(245,117,16), (117,245,16), (18,117,245)]\n",
    "def prob_viz(res, actions, input_frame, colors):\n",
    "    output_frame = input_frame.copy()\n",
    "    for num, prob in enumerate(res):\n",
    "        if num >= 3:\n",
    "            break\n",
    "        cv2.rectangle(output_frame, (0,60+num*40), (int(prob*200), 90+num*40), colors[num], -1)\n",
    "        cv2.putText(output_frame, actions[num], (0, 85+num*40), cv2.FONT_HERSHEY_SIMPLEX, 1, (255,255,255), 2, cv2.LINE_AA)\n",
    "        \n",
    "    return output_frame"
   ]
  },
  {
   "cell_type": "markdown",
   "id": "8d577314",
   "metadata": {},
   "source": [
    "# The below block can be run if the data is recorded (if block 12 is run) then we have variable 'image' initialized and we could run the following block to visualize the training phase"
   ]
  },
  {
   "cell_type": "code",
   "execution_count": 33,
   "id": "e05f076e",
   "metadata": {},
   "outputs": [],
   "source": [
    "# plt.figure(figsize=(18,18))\n",
    "# plt.imshow(prob_viz(res, actions, image, colors))"
   ]
  },
  {
   "cell_type": "code",
   "execution_count": 37,
   "id": "4bb1502f",
   "metadata": {
    "scrolled": true
   },
   "outputs": [],
   "source": [
    "# 1. New detection variables\n",
    "sequence = []\n",
    "sentence = []\n",
    "predictions = []\n",
    "threshold = 0.5\n",
    "\n",
    "cap = cv2.VideoCapture(0)\n",
    "# Set mediapipe model \n",
    "with mp_holistic.Holistic(min_detection_confidence=0.5, min_tracking_confidence=0.5) as holistic:\n",
    "    while cap.isOpened():\n",
    "\n",
    "        # Read feed\n",
    "        ret, frame = cap.read()\n",
    "\n",
    "        # Make detections\n",
    "        image, results = mediapipe_detection(frame, holistic)\n",
    "\n",
    "        # Draw landmarks\n",
    "        draw_styled_landmarks(image, results)\n",
    "\n",
    "        # 2. Prediction logic\n",
    "        keypoints = extract_keypoints(results)\n",
    "        sequence.append(keypoints)\n",
    "        sequence = sequence[-30:]\n",
    "\n",
    "        if len(sequence) == 30:\n",
    "            res = model.predict(np.expand_dims(sequence, axis=0))[0]\n",
    "            predictions.append(np.argmax(res))\n",
    "\n",
    "        #3. Viz logic\n",
    "            if np.unique(predictions[-10:])[0]==np.argmax(res): \n",
    "                if res[np.argmax(res)] > threshold: \n",
    "\n",
    "                    if len(sentence) > 0: \n",
    "                        if actions[np.argmax(res)] != sentence[-1]:\n",
    "                            sentence.append(actions[np.argmax(res)])\n",
    "                    else:\n",
    "                        sentence.append(actions[np.argmax(res)])\n",
    "\n",
    "            if len(sentence) > 5: \n",
    "                sentence = sentence[-5:]\n",
    "\n",
    "            # Viz probabilities\n",
    "            image = prob_viz(res, actions, image, colors)\n",
    "\n",
    "        cv2.rectangle(image, (0,0), (640, 40), (245, 117, 16), -1)\n",
    "        cv2.putText(image, ' '.join(sentence), (3,30), \n",
    "                       cv2.FONT_HERSHEY_SIMPLEX, 1, (255, 255, 255), 2, cv2.LINE_AA)\n",
    "\n",
    "        # Show to screen\n",
    "        cv2.imshow('OpenCV Feed', image)\n",
    "\n",
    "        # Break gracefully\n",
    "        if cv2.waitKey(3) & 0xFF == ord('q'):\n",
    "            break\n",
    "    cap.release()\n",
    "    cv2.destroyAllWindows()"
   ]
  },
  {
   "cell_type": "code",
   "execution_count": 35,
   "id": "d5a10d19",
   "metadata": {},
   "outputs": [],
   "source": [
    "cap.release()\n",
    "cv2.destroyAllWindows()"
   ]
  },
  {
   "cell_type": "code",
   "execution_count": null,
   "id": "f63bc93f",
   "metadata": {},
   "outputs": [],
   "source": []
  }
 ],
 "metadata": {
  "kernelspec": {
   "display_name": "Python 3",
   "language": "python",
   "name": "python3"
  },
  "language_info": {
   "codemirror_mode": {
    "name": "ipython",
    "version": 3
   },
   "file_extension": ".py",
   "mimetype": "text/x-python",
   "name": "python",
   "nbconvert_exporter": "python",
   "pygments_lexer": "ipython3",
   "version": "3.8.8"
  }
 },
 "nbformat": 4,
 "nbformat_minor": 5
}
